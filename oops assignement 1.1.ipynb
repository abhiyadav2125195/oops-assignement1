{
 "cells": [
  {
   "cell_type": "markdown",
   "id": "112baa92-63e6-475e-b38f-069353fd86ab",
   "metadata": {},
   "source": [
    "## Q1. Explain Class and Object with respect to Object-Oriented Programming. Give a suitable example."
   ]
  },
  {
   "cell_type": "markdown",
   "id": "e152eb8a-58a2-4db9-9849-9237f4d9dbc0",
   "metadata": {},
   "source": [
    "\n",
    "### In object-oriented programming (OOP), a class is a blueprint or a template that defines the structure and behavior of objects.\n",
    "### An object, on the other hand, is an instance of a class"
   ]
  },
  {
   "cell_type": "code",
   "execution_count": 9,
   "id": "28df0ecb-1428-4bf0-82bb-23caf7ec3fbb",
   "metadata": {},
   "outputs": [],
   "source": [
    "class class_1 :\n",
    "    def __init__ (self,name,model,year) :\n",
    "        self.name = name\n",
    "        self.model = model\n",
    "        self.year = year\n",
    "    def return_detail(self) :\n",
    "        return self.name,self.model,self.year"
   ]
  },
  {
   "cell_type": "code",
   "execution_count": 18,
   "id": "2759877a-99c8-4a9c-bc73-f25663e3f142",
   "metadata": {},
   "outputs": [],
   "source": [
    "vechile = class_1(\"inova\",1,2023)"
   ]
  },
  {
   "cell_type": "code",
   "execution_count": 21,
   "id": "a9306ae7-2e82-4ac7-90e7-c3981e37b8e6",
   "metadata": {},
   "outputs": [
    {
     "data": {
      "text/plain": [
       "'inova'"
      ]
     },
     "execution_count": 21,
     "metadata": {},
     "output_type": "execute_result"
    }
   ],
   "source": [
    "vechile.name"
   ]
  },
  {
   "cell_type": "markdown",
   "id": "a86c0ae9-ae02-4929-af0d-6eb2a7d34e07",
   "metadata": {},
   "source": [
    "## Q2. Name the four pillars of OOPs."
   ]
  },
  {
   "cell_type": "markdown",
   "id": "237c976e-9cfd-4315-9edd-0fb571e9f787",
   "metadata": {},
   "source": [
    " ### Encapsulation: Encapsulation refers to the bundling of data and methods within a class, where the data is typically hidden from external access. \n",
    "### Inheritance The derived classes inherit the attributes and behaviors of the base class, allowing code reuse and promoting a hierarchical relationship between classes. \n",
    "### Polymorphism: Polymorphism means the ability of objects to take on multiple forms or respond differently to the same message or method call\n",
    "### Abstraction: Abstraction focuses on providing essential information while hiding unnecessary details. It involves defining abstract classes and interfaces that provide a common interface for a set of related classes."
   ]
  },
  {
   "cell_type": "markdown",
   "id": "213262aa-7600-4ca4-a16c-df79eec725be",
   "metadata": {},
   "source": [
    "# Q3. Explain why the __init__() function is used. Give a suitable example."
   ]
  },
  {
   "cell_type": "markdown",
   "id": "ce5232c4-2861-4931-bef1-e15aa7121c69",
   "metadata": {},
   "source": [
    "## init function used for ask the data .ex \n"
   ]
  },
  {
   "cell_type": "code",
   "execution_count": 25,
   "id": "fc2fbdfe-0e35-4193-91c8-af390c8be2d4",
   "metadata": {},
   "outputs": [],
   "source": [
    "class class1 :\n",
    "    def __init__(self,name,email_id,roll_no):\n",
    "        self.name = name\n",
    "        self.email_id = email_id\n",
    "        self.roll_no = roll_no\n",
    "        \n",
    "    def  student_detail(self) :\n",
    "        return self.name,self.email_id,self.roll_no\n",
    "    \n",
    "    "
   ]
  },
  {
   "cell_type": "code",
   "execution_count": 27,
   "id": "15fa6528-5712-4815-84f9-c53f8175801c",
   "metadata": {},
   "outputs": [],
   "source": [
    "student = class1(\"abhishek\",\"abhi@gmail.com\",1)"
   ]
  },
  {
   "cell_type": "code",
   "execution_count": 28,
   "id": "75720a83-29bd-416f-84d4-c6f99f18721c",
   "metadata": {},
   "outputs": [
    {
     "data": {
      "text/plain": [
       "'abhishek'"
      ]
     },
     "execution_count": 28,
     "metadata": {},
     "output_type": "execute_result"
    }
   ],
   "source": [
    "student.name"
   ]
  },
  {
   "cell_type": "markdown",
   "id": "f010ae4c-e33a-45c3-8eed-17a02d7e2993",
   "metadata": {},
   "source": [
    "# Q4. Why self is used in OOPs?"
   ]
  },
  {
   "cell_type": "markdown",
   "id": "32744948-37ca-43dc-b70e-bfff36c5853e",
   "metadata": {},
   "source": [
    "## self is used in opps to connect the function with class and with  this class know that what data content in function ."
   ]
  },
  {
   "cell_type": "markdown",
   "id": "010dc377-563b-4456-a28a-24d6ba38a83f",
   "metadata": {},
   "source": [
    "# Q5. What is inheritance? Give an example for each type of inheritance."
   ]
  },
  {
   "cell_type": "markdown",
   "id": "8920d0bd-f9b9-48ba-87cb-d822830d110c",
   "metadata": {},
   "source": [
    "## inheritance show that parents class pass the same function to their child classes ex"
   ]
  },
  {
   "cell_type": "code",
   "execution_count": 65,
   "id": "eff19717-5ba6-4407-b18f-66a97d702eac",
   "metadata": {},
   "outputs": [],
   "source": [
    "class class1 :\n",
    "    def dad(self) :\n",
    "        return \"happy father day\"\n",
    "\n",
    "class class2(class1) :\n",
    "    def mother(self) :\n",
    "        return \"happy mother day\"\n",
    "\n",
    "class class3(class2) :\n",
    "    pass"
   ]
  },
  {
   "cell_type": "code",
   "execution_count": 66,
   "id": "afb0f5be-c965-4ca5-ad8f-5b9cd9488b90",
   "metadata": {},
   "outputs": [],
   "source": [
    "object3 = class3"
   ]
  },
  {
   "cell_type": "code",
   "execution_count": 69,
   "id": "ea53021a-e5d5-48ec-80a6-762d1620a07c",
   "metadata": {},
   "outputs": [
    {
     "ename": "TypeError",
     "evalue": "class2.mother() missing 1 required positional argument: 'self'",
     "output_type": "error",
     "traceback": [
      "\u001b[0;31m---------------------------------------------------------------------------\u001b[0m",
      "\u001b[0;31mTypeError\u001b[0m                                 Traceback (most recent call last)",
      "Cell \u001b[0;32mIn[69], line 1\u001b[0m\n\u001b[0;32m----> 1\u001b[0m \u001b[43mobject3\u001b[49m\u001b[38;5;241;43m.\u001b[39;49m\u001b[43mmother\u001b[49m\u001b[43m(\u001b[49m\u001b[43m)\u001b[49m\n",
      "\u001b[0;31mTypeError\u001b[0m: class2.mother() missing 1 required positional argument: 'self'"
     ]
    }
   ],
   "source": [
    "object3.mother()"
   ]
  },
  {
   "cell_type": "code",
   "execution_count": null,
   "id": "a2949cb3-1b70-42d9-a2cb-3897f73d04f4",
   "metadata": {},
   "outputs": [],
   "source": []
  },
  {
   "cell_type": "code",
   "execution_count": null,
   "id": "cc65cc4a-cd1b-4939-b479-e327b2ca9e38",
   "metadata": {},
   "outputs": [],
   "source": []
  }
 ],
 "metadata": {
  "kernelspec": {
   "display_name": "Python 3 (ipykernel)",
   "language": "python",
   "name": "python3"
  },
  "language_info": {
   "codemirror_mode": {
    "name": "ipython",
    "version": 3
   },
   "file_extension": ".py",
   "mimetype": "text/x-python",
   "name": "python",
   "nbconvert_exporter": "python",
   "pygments_lexer": "ipython3",
   "version": "3.10.8"
  }
 },
 "nbformat": 4,
 "nbformat_minor": 5
}
